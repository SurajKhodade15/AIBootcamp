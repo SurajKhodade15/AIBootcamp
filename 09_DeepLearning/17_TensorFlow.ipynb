{
 "cells": [
  {
   "cell_type": "markdown",
   "id": "788f95bc",
   "metadata": {},
   "source": [
    "## TensorFlow \n",
    "TensorFlow is a comprehensive, open-source deep learning framework developed by Google Brain. It is widely utilized across industries for research, prototyping, and large-scale production deployment.\n",
    "\n",
    "## 1. Key Features\n",
    "End-to-End ML Platform: Supports model building, training, deployment, and monitoring.\n",
    "\n",
    "Flexible Architecture: Works with CPUs, GPUs, TPUs, and distributed environments.\n",
    "\n",
    "High-Level API (Keras): Enables rapid prototyping with simplified syntax.\n",
    "\n",
    "Scalability: Suitable for small experiments as well as enterprise-level applications.\n",
    "\n",
    "Cross-Platform: Works across desktop, mobile (TensorFlow Lite), and web (TensorFlow.js).\n",
    "\n",
    "## 2. Core Components\n",
    "\n",
    "| **Component**                 | **Description**                                                        |\n",
    "| ----------------------------- | ---------------------------------------------------------------------- |\n",
    "| **TensorFlow Core**           | Low-level APIs for building custom models and operations.              |\n",
    "| **Keras API**                 | High-level API for quick model building and training.                  |\n",
    "| **TensorFlow Extended (TFX)** | End-to-end platform for production ML pipelines.                       |\n",
    "| **TensorFlow Lite**           | For deploying models on mobile and IoT devices.                        |\n",
    "| **TensorFlow\\.js**            | Running and training models directly in the browser using JavaScript.  |\n",
    "| **TensorBoard**               | Visualization toolkit for monitoring metrics, graphs, and performance. |\n",
    "\n",
    "\n",
    "## 3. Advantages\n",
    "Backed by Google with strong community support.\n",
    "\n",
    "Excellent for production deployment and scalable ML pipelines.\n",
    "\n",
    "Wide availability of pre-trained models and TensorFlow Hub.\n",
    "\n",
    "Compatible with ONNX for cross-framework deployment.\n",
    "\n"
   ]
  },
  {
   "cell_type": "markdown",
   "id": "b14c737b",
   "metadata": {},
   "source": [
    "## 4. Example: Basic Neural Network in TensorFlow (Keras API)"
   ]
  },
  {
   "cell_type": "code",
   "execution_count": 1,
   "id": "309b9af5",
   "metadata": {},
   "outputs": [
    {
     "ename": "ModuleNotFoundError",
     "evalue": "No module named 'tensorflow'",
     "output_type": "error",
     "traceback": [
      "\u001b[31m---------------------------------------------------------------------------\u001b[39m",
      "\u001b[31mModuleNotFoundError\u001b[39m                       Traceback (most recent call last)",
      "\u001b[36mCell\u001b[39m\u001b[36m \u001b[39m\u001b[32mIn[1]\u001b[39m\u001b[32m, line 1\u001b[39m\n\u001b[32m----> \u001b[39m\u001b[32m1\u001b[39m \u001b[38;5;28;01mimport\u001b[39;00m\u001b[38;5;250m \u001b[39m\u001b[34;01mtensorflow\u001b[39;00m\u001b[38;5;250m \u001b[39m\u001b[38;5;28;01mas\u001b[39;00m\u001b[38;5;250m \u001b[39m\u001b[34;01mtf\u001b[39;00m\n\u001b[32m      2\u001b[39m \u001b[38;5;28;01mfrom\u001b[39;00m\u001b[38;5;250m \u001b[39m\u001b[34;01mtensorflow\u001b[39;00m\u001b[38;5;250m \u001b[39m\u001b[38;5;28;01mimport\u001b[39;00m keras\n\u001b[32m      3\u001b[39m \u001b[38;5;28;01mfrom\u001b[39;00m\u001b[38;5;250m \u001b[39m\u001b[34;01mtensorflow\u001b[39;00m\u001b[34;01m.\u001b[39;00m\u001b[34;01mkeras\u001b[39;00m\u001b[38;5;250m \u001b[39m\u001b[38;5;28;01mimport\u001b[39;00m layers\n",
      "\u001b[31mModuleNotFoundError\u001b[39m: No module named 'tensorflow'"
     ]
    }
   ],
   "source": [
    "import tensorflow as tf\n",
    "from tensorflow import keras\n",
    "from tensorflow.keras import layers\n",
    "\n",
    "# Load dataset\n",
    "(x_train, y_train), (x_test, y_test) = keras.datasets.mnist.load_data()\n",
    "x_train, x_test = x_train / 255.0, x_test / 255.0\n",
    "\n",
    "# Build model\n",
    "model = keras.Sequential([\n",
    "    layers.Flatten(input_shape=(28, 28)),\n",
    "    layers.Dense(128, activation='relu'),\n",
    "    layers.Dropout(0.2),\n",
    "    layers.Dense(10, activation='softmax')\n",
    "])\n",
    "\n",
    "# Compile model\n",
    "model.compile(optimizer='adam',\n",
    "              loss='sparse_categorical_crossentropy',\n",
    "              metrics=['accuracy'])\n",
    "\n",
    "# Train model\n",
    "model.fit(x_train, y_train, epochs=5)\n",
    "\n",
    "# Evaluate\n",
    "model.evaluate(x_test, y_test)\n"
   ]
  },
  {
   "cell_type": "markdown",
   "id": "79523bff",
   "metadata": {},
   "source": [
    "## 5. Use Cases\n",
    "Computer Vision: Image classification, object detection, segmentation.\n",
    "\n",
    "NLP: Text classification, sentiment analysis, machine translation.\n",
    "\n",
    "Time Series: Forecasting, anomaly detection.\n",
    "\n",
    "Reinforcement Learning: Policy optimization, game AI.\n",
    "\n",
    "Production AI: Scalable inference on cloud, edge, and mobile."
   ]
  },
  {
   "cell_type": "markdown",
   "id": "be1fda07",
   "metadata": {},
   "source": []
  }
 ],
 "metadata": {
  "kernelspec": {
   "display_name": "Python 3",
   "language": "python",
   "name": "python3"
  },
  "language_info": {
   "codemirror_mode": {
    "name": "ipython",
    "version": 3
   },
   "file_extension": ".py",
   "mimetype": "text/x-python",
   "name": "python",
   "nbconvert_exporter": "python",
   "pygments_lexer": "ipython3",
   "version": "3.11.0"
  }
 },
 "nbformat": 4,
 "nbformat_minor": 5
}
