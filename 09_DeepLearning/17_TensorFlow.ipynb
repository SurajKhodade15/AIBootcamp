{
 "cells": [
  {
   "cell_type": "markdown",
   "id": "788f95bc",
   "metadata": {},
   "source": [
    "## TensorFlow \n",
    "TensorFlow is a comprehensive, open-source deep learning framework developed by Google Brain. It is widely utilized across industries for research, prototyping, and large-scale production deployment.\n",
    "\n",
    "## 1. Key Features\n",
    "End-to-End ML Platform: Supports model building, training, deployment, and monitoring.\n",
    "\n",
    "Flexible Architecture: Works with CPUs, GPUs, TPUs, and distributed environments.\n",
    "\n",
    "High-Level API (Keras): Enables rapid prototyping with simplified syntax.\n",
    "\n",
    "Scalability: Suitable for small experiments as well as enterprise-level applications.\n",
    "\n",
    "Cross-Platform: Works across desktop, mobile (TensorFlow Lite), and web (TensorFlow.js).\n",
    "\n",
    "## 2. Core Components\n",
    "\n",
    "| **Component**                 | **Description**                                                        |\n",
    "| ----------------------------- | ---------------------------------------------------------------------- |\n",
    "| **TensorFlow Core**           | Low-level APIs for building custom models and operations.              |\n",
    "| **Keras API**                 | High-level API for quick model building and training.                  |\n",
    "| **TensorFlow Extended (TFX)** | End-to-end platform for production ML pipelines.                       |\n",
    "| **TensorFlow Lite**           | For deploying models on mobile and IoT devices.                        |\n",
    "| **TensorFlow\\.js**            | Running and training models directly in the browser using JavaScript.  |\n",
    "| **TensorBoard**               | Visualization toolkit for monitoring metrics, graphs, and performance. |\n",
    "\n",
    "\n",
    "## 3. Advantages\n",
    "Backed by Google with strong community support.\n",
    "\n",
    "Excellent for production deployment and scalable ML pipelines.\n",
    "\n",
    "Wide availability of pre-trained models and TensorFlow Hub.\n",
    "\n",
    "Compatible with ONNX for cross-framework deployment.\n",
    "\n"
   ]
  },
  {
   "cell_type": "markdown",
   "id": "b14c737b",
   "metadata": {},
   "source": [
    "## 4. Example: Basic Neural Network in TensorFlow (Keras API)"
   ]
  },
  {
   "cell_type": "code",
   "execution_count": 1,
   "id": "309b9af5",
   "metadata": {},
   "outputs": [
    {
     "name": "stdout",
     "output_type": "stream",
     "text": [
      "WARNING:tensorflow:From c:\\Users\\Suraj Khodade\\AppData\\Local\\Programs\\Python\\Python311\\Lib\\site-packages\\keras\\src\\losses.py:2976: The name tf.losses.sparse_softmax_cross_entropy is deprecated. Please use tf.compat.v1.losses.sparse_softmax_cross_entropy instead.\n",
      "\n",
      "Downloading data from https://storage.googleapis.com/tensorflow/tf-keras-datasets/mnist.npz\n",
      "11490434/11490434 [==============================] - 3s 0us/step\n",
      "WARNING:tensorflow:From c:\\Users\\Suraj Khodade\\AppData\\Local\\Programs\\Python\\Python311\\Lib\\site-packages\\keras\\src\\backend.py:873: The name tf.get_default_graph is deprecated. Please use tf.compat.v1.get_default_graph instead.\n",
      "\n",
      "WARNING:tensorflow:From c:\\Users\\Suraj Khodade\\AppData\\Local\\Programs\\Python\\Python311\\Lib\\site-packages\\keras\\src\\optimizers\\__init__.py:309: The name tf.train.Optimizer is deprecated. Please use tf.compat.v1.train.Optimizer instead.\n",
      "\n",
      "Epoch 1/5\n",
      "WARNING:tensorflow:From c:\\Users\\Suraj Khodade\\AppData\\Local\\Programs\\Python\\Python311\\Lib\\site-packages\\keras\\src\\utils\\tf_utils.py:492: The name tf.ragged.RaggedTensorValue is deprecated. Please use tf.compat.v1.ragged.RaggedTensorValue instead.\n",
      "\n",
      "WARNING:tensorflow:From c:\\Users\\Suraj Khodade\\AppData\\Local\\Programs\\Python\\Python311\\Lib\\site-packages\\keras\\src\\engine\\base_layer_utils.py:384: The name tf.executing_eagerly_outside_functions is deprecated. Please use tf.compat.v1.executing_eagerly_outside_functions instead.\n",
      "\n",
      "1875/1875 [==============================] - 7s 3ms/step - loss: 0.2975 - accuracy: 0.9140\n",
      "Epoch 2/5\n",
      "1875/1875 [==============================] - 6s 3ms/step - loss: 0.1434 - accuracy: 0.9573\n",
      "Epoch 3/5\n",
      "1875/1875 [==============================] - 6s 3ms/step - loss: 0.1057 - accuracy: 0.9675\n",
      "Epoch 4/5\n",
      "1875/1875 [==============================] - 6s 3ms/step - loss: 0.0874 - accuracy: 0.9731\n",
      "Epoch 5/5\n",
      "1875/1875 [==============================] - 6s 3ms/step - loss: 0.0730 - accuracy: 0.9767\n",
      "313/313 [==============================] - 1s 2ms/step - loss: 0.0782 - accuracy: 0.9761\n"
     ]
    },
    {
     "data": {
      "text/plain": [
       "[0.07821542024612427, 0.9761000275611877]"
      ]
     },
     "execution_count": 1,
     "metadata": {},
     "output_type": "execute_result"
    }
   ],
   "source": [
    "import tensorflow as tf\n",
    "from tensorflow import keras\n",
    "from tensorflow.keras import layers\n",
    "\n",
    "# Load dataset\n",
    "(x_train, y_train), (x_test, y_test) = keras.datasets.mnist.load_data()\n",
    "x_train, x_test = x_train / 255.0, x_test / 255.0\n",
    "\n",
    "# Build model\n",
    "model = keras.Sequential([\n",
    "    layers.Flatten(input_shape=(28, 28)),\n",
    "    layers.Dense(128, activation='relu'),\n",
    "    layers.Dropout(0.2),\n",
    "    layers.Dense(10, activation='softmax')\n",
    "])\n",
    "\n",
    "# Compile model\n",
    "model.compile(optimizer='adam',\n",
    "              loss='sparse_categorical_crossentropy',\n",
    "              metrics=['accuracy'])\n",
    "\n",
    "# Train model\n",
    "model.fit(x_train, y_train, epochs=5)\n",
    "\n",
    "# Evaluate\n",
    "model.evaluate(x_test, y_test)\n"
   ]
  },
  {
   "cell_type": "markdown",
   "id": "79523bff",
   "metadata": {},
   "source": [
    "## 5. Use Cases\n",
    "Computer Vision: Image classification, object detection, segmentation.\n",
    "\n",
    "NLP: Text classification, sentiment analysis, machine translation.\n",
    "\n",
    "Time Series: Forecasting, anomaly detection.\n",
    "\n",
    "Reinforcement Learning: Policy optimization, game AI.\n",
    "\n",
    "Production AI: Scalable inference on cloud, edge, and mobile."
   ]
  },
  {
   "cell_type": "markdown",
   "id": "be1fda07",
   "metadata": {},
   "source": []
  }
 ],
 "metadata": {
  "kernelspec": {
   "display_name": "Python 3",
   "language": "python",
   "name": "python3"
  },
  "language_info": {
   "codemirror_mode": {
    "name": "ipython",
    "version": 3
   },
   "file_extension": ".py",
   "mimetype": "text/x-python",
   "name": "python",
   "nbconvert_exporter": "python",
   "pygments_lexer": "ipython3",
   "version": "3.11.0"
  }
 },
 "nbformat": 4,
 "nbformat_minor": 5
}
