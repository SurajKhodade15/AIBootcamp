{
 "cells": [
  {
   "cell_type": "markdown",
   "id": "0593804d",
   "metadata": {},
   "source": [
    "## Beginner-Level Python Interview Q&A (for Data/ML/AI Roles)"
   ]
  },
  {
   "cell_type": "markdown",
   "id": "59d6d249",
   "metadata": {},
   "source": [
    "| No. | Question                                           | Answer                                                                                                            | Use Case                                                                              | Syntax / Explanation                             | Coding Example                                                        |\n",
    "| --- | -------------------------------------------------- | ----------------------------------------------------------------------------------------------------------------- | ------------------------------------------------------------------------------------- | ------------------------------------------------ | --------------------------------------------------------------------- |\n",
    "| 1   | What are Python’s built-in data types?             | Python has several built-in data types such as `int`, `float`, `bool`, `str`, `list`, `tuple`, `dict`, and `set`. | Representing and storing different types of structured data.                          | `type(variable)`                                 | `python x = 10.5; print(type(x))  # <class 'float'> `                 |\n",
    "| 2   | What is the difference between a list and a tuple? | Lists are mutable, while tuples are immutable.                                                                    | Use list when data is dynamic; tuple when data should not change (e.g., coordinates). | `list = [1,2,3]` <br> `tuple = (1,2,3)`          | `python my_list = [1, 2]; my_list[0] = 9; print(my_list)  # [9, 2] `  |\n",
    "| 3   | How do you reverse a string in Python?             | Use slicing: `str[::-1]`                                                                                          | Useful in data cleaning, palindromic checks.                                          | `str[::-1]`                                      | `python s = \"data\"; print(s[::-1])  # 'atad' `                        |\n",
    "| 4   | What are list comprehensions?                      | A concise way to create lists using a single line of code.                                                        | Used to filter or transform data efficiently.                                         | `[expression for item in iterable if condition]` | `python squares = [x**2 for x in range(5)]  # [0, 1, 4, 9, 16] `      |\n",
    "| 5   | What is a lambda function?                         | Anonymous function used for short, simple operations.                                                             | Frequently used in sorting, filtering, or mapping functions.                          | `lambda arguments: expression`                   | `python add = lambda x, y: x + y; print(add(3, 5))  # 8 `             |\n",
    "| 6   | What is the difference between `is` and `==`?      | `==` checks value equality, `is` checks object identity.                                                          | Avoid logical errors during object comparisons.                                       | `a == b`, `a is b`                               | `python a = [1]; b = [1]; print(a == b, a is b)  # True, False `      |\n",
    "| 7   | How do you iterate through a dictionary?           | Using `.items()`, `.keys()`, or `.values()`                                                                       | Needed for accessing key-value pairs in configuration or dataset metadata.            | `for k, v in dict.items():`                      | `python d = {'a':1, 'b':2}; for k,v in d.items(): print(k,v) `        |\n",
    "| 8   | How do you handle exceptions in Python?            | Use `try-except` blocks.                                                                                          | Critical for building robust data pipelines that don’t crash.                         | `try: ... except Exception as e:`                | `python try: 1/0 except ZeroDivisionError: print(\"Divide by zero!\") ` |\n",
    "| 9   | How do you read a CSV file in Python?              | Use the `pandas` library with `read_csv()` method.                                                                | Essential for reading datasets in data science.                                       | `pd.read_csv('file.csv')`                        | `python import pandas as pd; df = pd.read_csv(\"data.csv\") `           |\n",
    "| 10  | What are \\*args and \\*\\*kwargs?                    | `*args` passes variable-length non-keyword args; `**kwargs` passes keyword args.                                  | Useful in function design for flexible input.                                         | `def func(*args, **kwargs):`                     | `python def greet(*names): print(\"Hi\", names); greet(\"A\", \"B\") `      |\n"
   ]
  },
  {
   "cell_type": "markdown",
   "id": "f838c353",
   "metadata": {},
   "source": [
    "Here’s a **Python Data Types Cheatsheet** for your data science interview prep.\n",
    "I’ll break it into **Built-in Types** + **Special Types**, with a **quick example, memory/behavior notes, and interview tips**.\n",
    "\n",
    "---\n",
    "\n",
    "## **📌 Python Data Types Cheatsheet**\n",
    "\n",
    "### **1. Numeric Types**\n",
    "\n",
    "| Type      | Example      | Mutable?    | Notes                                                   |\n",
    "| --------- | ------------ | ----------- | ------------------------------------------------------- |\n",
    "| `int`     | `x = 42`     | ❌ Immutable | Unlimited precision (no overflow like C).               |\n",
    "| `float`   | `x = 3.14`   | ❌ Immutable | IEEE 754 double precision (about 15–17 decimal digits). |\n",
    "| `complex` | `x = 2 + 3j` | ❌ Immutable | Real + imaginary parts (`x.real`, `x.imag`).            |\n",
    "\n",
    "---\n",
    "\n",
    "### **2. Sequence Types**\n",
    "\n",
    "| Type    | Example     | Mutable?    | Notes                                          |\n",
    "| ------- | ----------- | ----------- | ---------------------------------------------- |\n",
    "| `str`   | `\"Hello\"`   | ❌ Immutable | Unicode support; slicing creates new strings.  |\n",
    "| `list`  | `[1, 2, 3]` | ✅ Mutable   | Stores references; supports mixed data types.  |\n",
    "| `tuple` | `(1, 2, 3)` | ❌ Immutable | Faster than lists; often used for fixed data.  |\n",
    "| `range` | `range(5)`  | ❌ Immutable | Generates numbers on demand (lazy evaluation). |\n",
    "\n",
    "---\n",
    "\n",
    "### **3. Mapping Types**\n",
    "\n",
    "| Type   | Example            | Mutable?  | Notes                                   |\n",
    "| ------ | ------------------ | --------- | --------------------------------------- |\n",
    "| `dict` | `{\"a\": 1, \"b\": 2}` | ✅ Mutable | Key-value store; keys must be hashable. |\n",
    "\n",
    "---\n",
    "\n",
    "### **4. Set Types**\n",
    "\n",
    "| Type        | Example             | Mutable?    | Notes                     |\n",
    "| ----------- | ------------------- | ----------- | ------------------------- |\n",
    "| `set`       | `{1, 2, 3}`         | ✅ Mutable   | No duplicates; unordered. |\n",
    "| `frozenset` | `frozenset({1, 2})` | ❌ Immutable | Useful as dict keys.      |\n",
    "\n",
    "---\n",
    "\n",
    "### **5. Boolean & None**\n",
    "\n",
    "| Type       | Example          | Mutable?    | Notes                            |\n",
    "| ---------- | ---------------- | ----------- | -------------------------------- |\n",
    "| `bool`     | `True` / `False` | ❌ Immutable | Subclass of `int` (`True == 1`). |\n",
    "| `NoneType` | `None`           | ❌ Immutable | Represents “no value” / null.    |\n",
    "\n",
    "---\n",
    "\n",
    "### **6. Special & Data Science–Relevant**\n",
    "\n",
    "| Type         | Example                   | Mutable?    | Notes                                   |\n",
    "| ------------ | ------------------------- | ----------- | --------------------------------------- |\n",
    "| `bytes`      | `b\"hello\"`                | ❌ Immutable | Raw binary data.                        |\n",
    "| `bytearray`  | `bytearray([65, 66, 67])` | ✅ Mutable   | Editable sequence of bytes.             |\n",
    "| `memoryview` | `memoryview(b\"abc\")`      | ✅ Mutable   | Views into binary data without copying. |\n",
    "\n",
    "---\n",
    "\n",
    "## **⚡ Common Interview Questions & Quick Answers**\n",
    "\n",
    "**Q1:** What’s the difference between `list`, `tuple`, and `set`?\n",
    "**A1:**\n",
    "\n",
    "* List → Ordered, mutable, allows duplicates.\n",
    "* Tuple → Ordered, immutable, allows duplicates.\n",
    "* Set → Unordered, mutable, no duplicates.\n",
    "\n",
    "**Q2:** Why use a tuple over a list?\n",
    "**A2:** Tuples are faster, use less memory, and ensure data integrity (can’t be changed).\n",
    "\n",
    "**Q3:** What makes an object hashable?\n",
    "**A3:** If it has a hash value that doesn’t change during its lifetime (usually immutable).\n",
    "\n",
    "**Q4:** Is `bool` a separate type from `int`?\n",
    "**A4:** Technically no — `bool` is a subclass of `int` (`True` == 1, `False` == 0), but it’s used for logical values.\n",
    "\n",
    "---\n",
    "\n",
    "I can make you **memory tricks + visual diagrams** for these so you can recall them instantly in interviews.\n",
    "Do you want me to prepare **that visual map of Python data types** next? That’ll make it stick faster.\n"
   ]
  },
  {
   "cell_type": "markdown",
   "id": "091dd77d",
   "metadata": {},
   "source": [
    "| No. | Question                                                           | Answer                                                                       | Use Case                                                | Syntax / Explanation                              | Coding Example                                                                                         |         |                                                |                    |\n",
    "| --- | ------------------------------------------------------------------ | ---------------------------------------------------------------------------- | ------------------------------------------------------- | ------------------------------------------------- | ------------------------------------------------------------------------------------------------------ | ------- | ---------------------------------------------- | ------------------ |\n",
    "| 11  | What is the difference between `append()` and `extend()` in lists? | `append()` adds a single element; `extend()` adds elements from an iterable. | Appending data during batch collection or EDA.          | `list.append(x)` vs `list.extend(iterable)`       | `python l = [1]; l.append([2]); print(l)  # [1, [2]] <br> l = [1]; l.extend([2]); print(l)  # [1, 2] ` |         |                                                |                    |\n",
    "| 12  | How do you check for `None` in Python?                             | Use `is None` or `is not None`.                                              | Handling missing values in ETL or data imputation.      | `if variable is None:`                            | `python x = None; if x is None: print(\"Null\") `                                                        |         |                                                |                    |\n",
    "| 13  | What is the purpose of `range()` in Python?                        | Generates a sequence of numbers, used in loops.                              | Useful for iteration, especially over indices.          | `range(start, stop, step)`                        | `python for i in range(1, 4): print(i)  # 1 2 3 `                                                      |         |                                                |                    |\n",
    "| 14  | How can you merge two dictionaries in Python 3.9+?                 | Use the merge operator \\`                                                    | \\`.                                                     | Combining config dictionaries or result mappings. | \\`dict1                                                                                                | dict2\\` | \\`\\`\\`python a = {'x': 1}; b = {'y': 2}; c = a | b; print(c) \\`\\`\\` |\n",
    "| 15  | What are Python docstrings?                                        | Multiline string literals used for documentation.                            | Code readability and auto-documentation.                | `\"\"\"This is a docstring\"\"\"`                       | `python def func(): \"\"\"Returns hello.\"\"\"; return \"hello\" `                                             |         |                                                |                    |\n",
    "| 16  | What is slicing in Python?                                         | Extracting sub-parts of strings, lists, etc. using `[start:stop:step]`.      | Common in data wrangling, preprocessing.                | `obj[start:end:step]`                             | `python s = \"data\"; print(s[1:3])  # 'at' `                                                            |         |                                                |                    |\n",
    "| 17  | How do you check the data type of a variable?                      | Use the built-in `type()` function.                                          | During feature engineering, schema validation.          | `type(x)`                                         | `python x = 5.2; print(type(x))  # <class 'float'> `                                                   |         |                                                |                    |\n",
    "| 18  | What is the difference between `break` and `continue`?             | `break` exits the loop; `continue` skips to the next iteration.              | Loop control in iterative algorithms or sampling logic. | `for ...: if cond: break/continue`                | `python for i in range(5): if i==3: break; print(i) `                                                  |         |                                                |                    |\n",
    "| 19  | How do you remove duplicates from a list?                          | Convert the list to a `set`, or use a loop with membership test.             | Useful in data cleaning during preprocessing.           | `list(set(list))`                                 | `python l = [1,2,2,3]; print(list(set(l)))  # [1, 2, 3] `                                              |         |                                                |                    |\n",
    "| 20  | What are f-strings in Python?                                      | Literal string interpolation introduced in Python 3.6.                       | Useful in logging, reporting, dynamic output.           | `f\"Hello {name}\"`                                 | `python name = \"Suraj\"; print(f\"Hi {name}\") `                                                          |         |                                                |                    |\n"
   ]
  },
  {
   "cell_type": "markdown",
   "id": "dcc99ca5",
   "metadata": {},
   "source": [
    "| No. | Question                                                 | Answer                                                                                                    | Use Case                                                     | Syntax / Explanation                 | Coding Example                                                                   |\n",
    "| --- | -------------------------------------------------------- | --------------------------------------------------------------------------------------------------------- | ------------------------------------------------------------ | ------------------------------------ | -------------------------------------------------------------------------------- |\n",
    "| 21  | What is the difference between `==` and `is` in Python?  | `==` checks value equality; `is` checks object identity (memory address).                                 | Preventing bugs in data transformation checks.               | `a == b`, `a is b`                   | `python a = [1]; b = [1]; print(a == b, a is b)  # True, False `                 |\n",
    "| 22  | How do you comment in Python?                            | Use `#` for single-line and triple quotes for multi-line.                                                 | Used in documentation, debugging, collaborative development. | `# Single`, `''' Multi '''`          | `python # This is a comment<br>''' Multi-line ''' `                              |\n",
    "| 23  | What is the purpose of `zip()` in Python?                | Combines two or more iterables into tuples.                                                               | Useful in batch feature-label pairing.                       | `zip(iter1, iter2)`                  | `python names = ['A', 'B']; scores = [90, 95]; print(list(zip(names, scores))) ` |\n",
    "| 24  | How can you sort a list in Python?                       | Use `sorted()` or `.sort()`; both support custom keys.                                                    | Sorting features, results, or input arrays.                  | `sorted(list)` or `list.sort()`      | `python l = [3,1,2]; print(sorted(l))  # [1, 2, 3] `                             |\n",
    "| 25  | What is the difference between `deepcopy` and `copy`?    | `copy` creates a shallow copy; `deepcopy` duplicates all nested objects.                                  | Cloning configuration dicts, model params.                   | `copy.copy()`, `copy.deepcopy()`     | `python import copy; a = [[1]]; b = copy.deepcopy(a) `                           |\n",
    "| 26  | How do you check if a key exists in a dictionary?        | Use `in` operator.                                                                                        | During JSON parsing, config management.                      | `'key' in dict`                      | `python d = {'x': 1}; print('x' in d)  # True `                                  |\n",
    "| 27  | What does the `enumerate()` function do?                 | Adds index to each element of an iterable.                                                                | Helpful in loops where position matters.                     | `for i, val in enumerate(iterable):` | `python for i, val in enumerate(['a','b']): print(i, val) `                      |\n",
    "| 28  | How do you create a function in Python?                  | Using the `def` keyword.                                                                                  | Used to modularize ML pipelines and EDA steps.               | `def function_name():`               | `python def greet(): print(\"Hi\") `                                               |\n",
    "| 29  | What is the difference between `None`, `0`, and `False`? | `None` is null, `0` is numeric, `False` is boolean. All evaluate as False in conditions but are distinct. | Important in data imputation, logic conditions.              | Identity check: `is None`            | `python print(None == 0)  # False `                                              |\n",
    "| 30  | What is the use of `id()` function?                      | Returns the memory address of an object.                                                                  | Debugging object identity or memory leaks.                   | `id(obj)`                            | `python x = 5; print(id(x)) `                                                    |\n"
   ]
  },
  {
   "cell_type": "markdown",
   "id": "89692140",
   "metadata": {},
   "source": [
    "## Intermediate-Level Python Interview Q&A (for Data/ML/AI Roles)"
   ]
  },
  {
   "cell_type": "markdown",
   "id": "93c67291",
   "metadata": {},
   "source": [
    "| No. | Question                                                | Answer                                                                          | Use Case                                                   | Syntax / Explanation         | Coding Example                                                                                          |\n",
    "| --- | ------------------------------------------------------- | ------------------------------------------------------------------------------- | ---------------------------------------------------------- | ---------------------------- | ------------------------------------------------------------------------------------------------------- |\n",
    "| 1   | What is a class in Python?                              | A blueprint for creating objects (instances) with attributes and methods.       | Structuring reusable ML models, components.                | `class ClassName:`           | `python class Model: def __init__(self, name): self.name = name `                                       |\n",
    "| 2   | What is inheritance in Python?                          | Mechanism to derive a class from another class (parent → child).                | Reusing logic in pipelines (e.g., base data transformer).  | `class Child(Base):`         | `python class A: pass; class B(A): pass `                                                               |\n",
    "| 3   | What are decorators in Python?                          | Functions that modify behavior of other functions without modifying their code. | Timing model training, logging, permission control.        | `@decorator` syntax          | `python def log(func): <br> def wrap(): print(\"Log\"); return func() <br> @log def run(): print(\"Run\") ` |\n",
    "| 4   | How do you handle exceptions gracefully in Python?      | Use `try-except` blocks and optionally `finally` for cleanup.                   | Avoid crashing pipelines, model serving errors.            | `try: ... except Exception:` | `python try: 1/0 except ZeroDivisionError: print(\"Error\") `                                             |\n",
    "| 5   | What is a generator in Python?                          | A function that yields items one at a time using `yield`.                       | Streaming large datasets, memory-efficient data pipelines. | `def gen(): yield`           | `python def countdown(): yield 3; yield 2; yield 1 `                                                    |\n",
    "| 6   | Explain difference between `isinstance()` and `type()`? | `type()` checks exact class; `isinstance()` checks inheritance too.             | Validating input types in general-purpose ML functions.    | `isinstance(obj, Class)`     | `python isinstance(True, int)  # True `                                                                 |\n",
    "| 7   | What is the purpose of `with` statement in Python?      | Simplifies resource management (e.g., file or DB connections).                  | File handling in model/data logs.                          | `with open(...) as f:`       | `python with open('file.txt') as f: data = f.read() `                                                   |\n",
    "| 8   | What are NumPy arrays?                                  | Typed, multidimensional containers for numerical data.                          | Feature matrices, input tensors, vectorization.            | `np.array([...])`            | `python import numpy as np; arr = np.array([1,2]) `                                                     |\n",
    "| 9   | How do you filter rows in a Pandas DataFrame?           | Use Boolean indexing: `df[df['col'] > val]`                                     | Feature filtering, conditional selections.                 | `df[df['col'] > x]`          | `python import pandas as pd; df = pd.DataFrame({'a':[1,2]}); print(df[df['a']>1]) `                     |\n",
    "| 10  | How do you apply a function to a column in Pandas?      | Use `.apply()` method for row/column-wise operations.                           | Scaling, text cleaning, encoding features.                 | `df['col'].apply(func)`      | `python df['age'].apply(lambda x: x+5) `                                                                |\n"
   ]
  },
  {
   "cell_type": "markdown",
   "id": "92962749",
   "metadata": {},
   "source": [
    "| No. | Question                                                             | Answer                                                                                                            | Use Case                                                         | Syntax / Explanation                                    | Coding Example                                                                                    |\n",
    "| --- | -------------------------------------------------------------------- | ----------------------------------------------------------------------------------------------------------------- | ---------------------------------------------------------------- | ------------------------------------------------------- | ------------------------------------------------------------------------------------------------- |\n",
    "| 11  | What is the difference between `map()` and `apply()`?                | `map()` is native Python and works on any iterable. `apply()` is a Pandas method for DataFrame/Series operations. | Data transformation in raw Python vs Pandas DataFrames.          | `map(func, iterable)` or `df['col'].apply(func)`        | `python names = ['A', 'B']; print(list(map(str.lower, names))) <br> df['name'].apply(str.lower) ` |\n",
    "| 12  | How can you handle missing data in Pandas?                           | Use `isnull()`, `fillna()`, or `dropna()` for detection, imputation, or removal.                                  | Critical in EDA, feature cleaning.                               | `df.fillna(0)`, `df.dropna()`                           | `python df['age'].fillna(df['age'].mean()) `                                                      |\n",
    "| 13  | What is list unpacking in Python?                                    | Assigning multiple values from a list/tuple directly to variables.                                                | Useful in feature extraction from tuples, matrix deconstruction. | `a, b = [1, 2]`                                         | `python name, age = ['Suraj', 30]; print(name) `                                                  |\n",
    "| 14  | What is a lambda function used for?                                  | Defining short anonymous functions inline, especially in `map`, `apply`, `sort`, etc.                             | Preprocessing, data filtering, column transformations.           | `lambda args: expression`                               | `python square = lambda x: x**2; print(square(3)) `                                               |\n",
    "| 15  | What is a shallow vs deep copy?                                      | Shallow copy copies references; deep copy duplicates entire objects recursively.                                  | Preventing unintended mutation of nested data structures.        | `copy.copy()` vs `copy.deepcopy()`                      | `python import copy; b = copy.deepcopy(a) `                                                       |\n",
    "| 16  | How can you combine two Pandas DataFrames?                           | Use `pd.concat()` (row-wise/col-wise) or `merge()` (join-style).                                                  | Dataset aggregation, schema normalization, joins.                | `pd.concat([df1, df2])`, `pd.merge(df1, df2, on='key')` | `python pd.merge(df1, df2, on='id') `                                                             |\n",
    "| 17  | How do you filter even numbers from a list using list comprehension? | `[x for x in list if x % 2 == 0]`                                                                                 | Feature selection, conditional filtering.                        | `[expr for x in iterable if condition]`                 | `python nums = [1, 2, 3]; evens = [x for x in nums if x % 2 == 0] `                               |\n",
    "| 18  | What are Python iterators?                                           | Objects that implement the iterator protocol: `__iter__()` and `__next__()`.                                      | Processing data streams, custom data loaders.                    | `iter(obj)` and `next(obj)`                             | `python it = iter([1,2]); print(next(it)) `                                                       |\n",
    "| 19  | How do you measure execution time of a Python block?                 | Use `time` or `timeit` modules; or decorators.                                                                    | Profiling slow ML code or transformation functions.              | `time.time()` before/after block                        | `python import time; start = time.time(); ... ; print(time.time() - start) `                      |\n",
    "| 20  | What is a Python context manager?                                    | It manages resources (like file or DB connections) using `with`. Ensures clean entry/exit.                        | Managing model files, logs, open sockets.                        | `with resource as obj:`                                 | `python with open('file.txt') as f: data = f.read() `                                             |\n"
   ]
  },
  {
   "cell_type": "markdown",
   "id": "e8c7003e",
   "metadata": {},
   "source": [
    "| No. | Question                                                         | Answer                                                                            | Use Case                                                    | Syntax / Explanation                     | Coding Example                                              |\n",
    "| --- | ---------------------------------------------------------------- | --------------------------------------------------------------------------------- | ----------------------------------------------------------- | ---------------------------------------- | ----------------------------------------------------------- |\n",
    "| 21  | What is dictionary comprehension?                                | A concise way to construct dictionaries using a single expression.                | Efficient mapping of features or transformation logic.      | `{k: v for k, v in iterable}`            | `python squares = {x: x*x for x in range(5)} `              |\n",
    "| 22  | What are \\*args and \\*\\*kwargs used for in function definitions? | `*args` handles variable-length positional args; `**kwargs` handles keyword args. | Building flexible APIs or model wrappers.                   | `def func(*args, **kwargs):`             | `python def show(*args, **kwargs): print(args, kwargs) `    |\n",
    "| 23  | What is the difference between `sort()` and `sorted()`?          | `sort()` is in-place (for lists only); `sorted()` returns a new list.             | Sorting data, results, arrays in-memory.                    | `sorted(list)`, `list.sort()`            | `python nums = [3,1,2]; sorted(nums) `                      |\n",
    "| 24  | What does the `any()` function do?                               | Returns `True` if at least one element in iterable is `True`.                     | Checking presence of valid data in column or list.          | `any([cond1, cond2])`                    | `python any([False, True, False])  # True `                 |\n",
    "| 25  | What is the use of the `enumerate()` function?                   | Adds counter/index to iterable, producing tuples `(index, item)`.                 | Labeling data, iterating with index in model training logs. | `enumerate(iterable)`                    | `python for i, val in enumerate(['a','b']): print(i, val) ` |\n",
    "| 26  | What are Python slices and slice objects?                        | Slices extract parts of sequences. `slice()` can create reusable slice objects.   | Used in data splitting, time series slicing.                | `slice(start, stop, step)`               | `python s = slice(1, 4); print([0,1,2,3,4][s]) `            |\n",
    "| 27  | What are Python assertions used for?                             | Used for debugging and validating conditions during development.                  | Validate data formats, check preprocessing assumptions.     | `assert condition, \"error message\"`      | `python assert 2 > 1, \"Math is broken\" `                    |\n",
    "| 28  | How do you find unique values in a list or Series?               | Use `set()` for list; `.unique()` for Pandas.                                     | Checking categorical levels, data quality.                  | `set(list)`, `df['col'].unique()`        | `python list(set([1,2,2,3])) `                              |\n",
    "| 29  | What are Python modules and packages?                            | Modules are `.py` files; packages are folders with `__init__.py`.                 | Code reuse, ML pipeline modularity.                         | `import module`, `from package import x` | `python import math; print(math.sqrt(16)) `                 |\n",
    "| 30  | How do you remove an item from a list by index and by value?     | Use `del` or `.pop(index)` for index; `.remove(value)` for value.                 | Data pruning, outlier deletion, cleanup operations.         | `list.pop(i)`, `list.remove(v)`          | `python l = [1,2,3]; l.remove(2); print(l) `                |\n"
   ]
  },
  {
   "cell_type": "markdown",
   "id": "7e66d113",
   "metadata": {},
   "source": [
    "## Advance-Level Python Interview Q&A (for Data/ML/AI Roles)"
   ]
  },
  {
   "cell_type": "markdown",
   "id": "6de3d604",
   "metadata": {},
   "source": [
    "| No. | Question                                                                                 | Answer                                                                                                                           | Use Case                                                                           | Syntax / Explanation                      | Coding Example                                                                          |\n",
    "| --- | ---------------------------------------------------------------------------------------- | -------------------------------------------------------------------------------------------------------------------------------- | ---------------------------------------------------------------------------------- | ----------------------------------------- | --------------------------------------------------------------------------------------- |\n",
    "| 1   | What is the Global Interpreter Lock (GIL) in Python? How does it affect multi-threading? | GIL is a mutex that allows only one thread to execute Python bytecode at a time, limiting true parallelism in CPU-bound threads. | Critical to understand for optimizing ML pipelines and concurrent data processing. | N/A                                       | Python threading module example with limited concurrency.                               |\n",
    "| 2   | How can you achieve true parallelism in Python despite the GIL?                          | Use multiprocessing (separate processes) or C extensions that release the GIL, or use async IO for IO-bound tasks.               | Parallel data preprocessing, distributed ML training.                              | `multiprocessing` module                  | `python from multiprocessing import Pool; with Pool(4) as p: print(p.map(func, data)) ` |\n",
    "| 3   | Explain Python’s memory management and garbage collection mechanisms.                    | Python uses reference counting and a cyclic garbage collector for reclaiming memory.                                             | Managing memory leaks in long-running ML services or model training.               | N/A                                       | Use `gc` module to tune collection.                                                     |\n",
    "| 4   | What are metaclasses in Python and how are they used?                                    | Metaclasses control class creation; used to customize class behavior dynamically.                                                | Framework design, dynamic model creation, ORM systems.                             | `class Meta(type):`                       | `python class Meta(type): pass; class A(metaclass=Meta): pass `                         |\n",
    "| 5   | How do you optimize Pandas DataFrames for large datasets?                                | Use appropriate data types, categorical encoding, chunking, avoid copies, and vectorized operations.                             | Handling big data in ML pipelines efficiently.                                     | `astype()`, `category` dtype              | `python df['col'] = df['col'].astype('category') `                                      |\n",
    "| 6   | What are Python coroutines and how do they differ from threads?                          | Coroutines use cooperative multitasking, run within a single thread asynchronously, unlike OS threads which are preemptive.      | Efficient async data streaming, API calls in ML services.                          | `async def` and `await`                   | `python async def fetch(): await asyncio.sleep(1) `                                     |\n",
    "| 7   | How does Python’s `functools.lru_cache` improve performance?                             | Caches function results to avoid repeated expensive computations.                                                                | Memoization in recursive model evaluations or data transformations.                | `@lru_cache(maxsize=...)`                 | `python from functools import lru_cache; @lru_cache def fib(n): ... `                   |\n",
    "| 8   | Explain the difference between `deepcopy` and `copy` with an example.                    | `copy` creates shallow copies (references nested objects), `deepcopy` duplicates nested objects recursively.                     | Prevent data corruption in nested feature sets or parameter trees.                 | `copy.copy()`, `copy.deepcopy()`          | `python import copy; b = copy.deepcopy(a) `                                             |\n",
    "| 9   | How would you profile Python code to identify bottlenecks?                               | Use `cProfile`, `line_profiler`, or `memory_profiler` modules.                                                                   | Optimize ML pipeline runtime and memory usage.                                     | `import cProfile`                         | `python import cProfile; cProfile.run('my_func()') `                                    |\n",
    "| 10  | Describe the observer design pattern and its implementation in Python.                   | Pattern where an object (subject) maintains a list of dependents (observers) and notifies them of state changes.                 | Event handling, callback systems in AI pipelines.                                  | Class with `attach()`, `notify()` methods | `python class Subject: ... `                                                            |\n"
   ]
  },
  {
   "cell_type": "markdown",
   "id": "5c732710",
   "metadata": {},
   "source": [
    "| No. | Question                                                                                         | Answer                                                                                                                 | Use Case                                                                  | Syntax / Explanation                           | Coding Example                                                                         |\n",
    "| --- | ------------------------------------------------------------------------------------------------ | ---------------------------------------------------------------------------------------------------------------------- | ------------------------------------------------------------------------- | ---------------------------------------------- | -------------------------------------------------------------------------------------- |\n",
    "| 11  | What are Python’s async and await keywords, and how do they facilitate asynchronous programming? | `async` defines a coroutine; `await` pauses coroutine execution until awaited task completes. Enables non-blocking IO. | Efficiently handling API calls or streaming data in ML workflows.         | `async def func(): await other()`              | `python import asyncio; async def main(): await asyncio.sleep(1) asyncio.run(main()) ` |\n",
    "| 12  | How do you implement memoization manually in Python?                                             | Use a dictionary to cache function calls and results.                                                                  | Speed up repeated expensive function calls in recursive algorithms.       | Store results in a cache dict inside function. | `python cache = {}; def fib(n): if n in cache: return cache[n]; ... `                  |\n",
    "| 13  | What are Python’s weak references, and why are they useful?                                      | References that do not increase object’s reference count, allowing GC to reclaim objects.                              | Useful for caches that should not prevent object cleanup.                 | `weakref` module                               | `python import weakref; `                                                              |\n",
    "| 14  | How does Python’s descriptor protocol work?                                                      | Protocol to customize attribute access with methods `__get__`, `__set__`, and `__delete__`.                            | Used in property management, ORM frameworks, and validation.              | Class implementing descriptor methods.         | `python class Descriptor: def __get__(self, obj, type): ... `                          |\n",
    "| 15  | Explain the difference between synchronous and asynchronous iterators in Python.                 | Synchronous iterators use `__iter__` and `__next__`; asynchronous use `__aiter__` and `__anext__`.                     | Async iterators support non-blocking iteration over async data sources.   | `async for` loops                              | `python async for x in async_iterable: ... `                                           |\n",
    "| 16  | How would you implement a thread-safe singleton in Python?                                       | Use locking (e.g., threading.Lock) in the class to ensure one instance creation.                                       | Ensuring a single model or config instance in multithreaded environments. | Use `__new__` with locking                     | `python import threading; class Singleton: ... `                                       |\n",
    "| 17  | What is the purpose of Python’s `__slots__`?                                                     | Restricts attribute creation to specified names, reducing memory overhead.                                             | Optimizing memory for large-scale ML objects or embeddings.               | Define `__slots__ = [...]` in class            | `python class A: __slots__ = ['x', 'y'] `                                              |\n",
    "| 18  | How do you manage dependencies and virtual environments in Python projects?                      | Use `venv`, `virtualenv`, or `conda` to isolate packages.                                                              | Avoid dependency conflicts in multi-project ML environments.              | `python -m venv env`                           | `bash python -m venv myenv `                                                           |\n",
    "| 19  | How does Python handle function annotations, and how are they useful?                            | Store metadata for function parameters and return types, mainly for type hinting.                                      | Improves code clarity, static analysis, and ML API contracts.             | `def func(a: int) -> str:`                     | `python def greet(name: str) -> str: return \"Hi \" + name `                             |\n",
    "| 20  | How do you implement lazy evaluation in Python?                                                  | Use generators or iterators that compute values on-demand.                                                             | Efficient data streaming, memory optimization in pipelines.               | Use `yield` or `itertools`                     | `python def lazy_range(n): for i in range(n): yield i `                                |\n"
   ]
  },
  {
   "cell_type": "markdown",
   "id": "897c689c",
   "metadata": {},
   "source": [
    "| No. | Question                                                                        | Answer                                                                                                                            | Use Case                                                                   | Syntax / Explanation                        | Coding Example                                                                                            |\n",
    "| --- | ------------------------------------------------------------------------------- | --------------------------------------------------------------------------------------------------------------------------------- | -------------------------------------------------------------------------- | ------------------------------------------- | --------------------------------------------------------------------------------------------------------- |\n",
    "| 21  | How do Python’s generators differ from iterators?                               | Generators are a simpler way to create iterators using `yield`; iterators implement `__iter__` and `__next__` manually.           | Efficient data streaming, handling large datasets without memory overhead. | `def gen(): yield` vs class with `__iter__` | `python def gen(): yield 1; yield 2 `                                                                     |\n",
    "| 22  | What is monkey patching in Python? When is it used?                             | Dynamically modifying or extending classes or modules at runtime.                                                                 | Hotfixes, mocking in testing, extending third-party libraries.             | `module.Class.method = new_method`          | `python import math; math.sqrt = lambda x: 42 `                                                           |\n",
    "| 23  | Explain Python’s method resolution order (MRO).                                 | Order in which base classes are searched when executing a method. Python uses C3 linearization.                                   | Crucial in multiple inheritance for predictable behavior.                  | `ClassName.__mro__` or `mro()` method       | `python class A: pass; class B(A): pass; print(B.mro()) `                                                 |\n",
    "| 24  | What are coroutines and how do they differ from generators?                     | Coroutines consume values and can pause/resume; generators produce values. Coroutines use `async def`.                            | Async ML APIs, event-driven programming.                                   | `async def`, `yield` vs `await`             | `python async def coro(): await asyncio.sleep(1) `                                                        |\n",
    "| 25  | How do you serialize complex Python objects for ML model deployment?            | Use `pickle`, `joblib`, or custom JSON serializers for complex nested objects.                                                    | Persisting models, preprocessing pipelines.                                | `pickle.dump()`, `joblib.dump()`            | `python import pickle; pickle.dump(model, open('m.pkl', 'wb')) `                                          |\n",
    "| 26  | How can you implement memoization with decorators?                              | Wrap a function with a decorator that caches results in a dictionary.                                                             | Avoid recomputing expensive ML computations.                               | Define a caching decorator with a dict.     | `python def memo(f): cache = {}; def g(x): if x not in cache: cache[x] = f(x); return cache[x] return g ` |\n",
    "| 27  | What are the differences between Python 2 and Python 3 that impact ML projects? | Print is a function in Python 3, integer division differs, Unicode is default in Python 3, libraries support mainly Python 3 now. | Ensuring compatibility and future-proofing ML codebases.                   | Syntax and behavior differences.            | N/A                                                                                                       |\n",
    "| 28  | How do you use `multiprocessing` and avoid data race conditions?                | Use process-safe queues, locks, or managers to synchronize data access.                                                           | Parallel data preprocessing, distributed model training.                   | `multiprocessing.Lock()`, `Queue()`         | `python from multiprocessing import Lock; lock = Lock() `                                                 |\n",
    "| 29  | What is the difference between a coroutine and a thread?                        | Coroutines run in a single thread using cooperative multitasking; threads are OS-level preemptive.                                | Lightweight concurrency for IO-bound ML tasks.                             | `asyncio` vs `threading`                    | N/A                                                                                                       |\n",
    "| 30  | Explain Python’s `__init__.py` file significance in packages.                   | Marks directories as Python packages, enabling imports.                                                                           | Structuring large ML codebases modularly.                                  | Presence of `__init__.py`                   | N/A                                                                                                       |\n"
   ]
  },
  {
   "cell_type": "code",
   "execution_count": 1,
   "id": "3117b6a9",
   "metadata": {},
   "outputs": [
    {
     "name": "stdout",
     "output_type": "stream",
     "text": [
      "!dlroW ,olleH\n"
     ]
    }
   ],
   "source": [
    "### Reverse a String\n",
    "\n",
    "def reverse_string(s):\n",
    "    \"\"\"Reverse a string.\"\"\"\n",
    "    return s[::-1]\n",
    "# Example usage\n",
    "print(reverse_string(\"Hello, World!\"))  # Output: !dlroW ,olleH"
   ]
  },
  {
   "cell_type": "code",
   "execution_count": 4,
   "id": "4d79277b",
   "metadata": {},
   "outputs": [
    {
     "name": "stdout",
     "output_type": "stream",
     "text": [
      "True\n",
      "False\n"
     ]
    }
   ],
   "source": [
    "### Check if a String is a Palindrome\n",
    "def check_palindrome(d):\n",
    "    return d == d[::-1]\n",
    "\n",
    "# Example usage\n",
    "print(check_palindrome(\"radar\"))  # Output: True\n",
    "print(check_palindrome(\"hello\"))  # Output: False"
   ]
  },
  {
   "cell_type": "code",
   "execution_count": 8,
   "id": "9d8cecd1",
   "metadata": {},
   "outputs": [
    {
     "name": "stdout",
     "output_type": "stream",
     "text": [
      "5\n",
      "An error occurred: isinstance() arg 2 must be a type, a tuple of types, or a union\n",
      "None\n"
     ]
    }
   ],
   "source": [
    "### Find the Maximum Element in an Array\n",
    "def find_max_number(a):\n",
    "    try:\n",
    "        ## check data type\n",
    "        if isinstance(a, np.ndarray):\n",
    "            return a.max()\n",
    "        elif isinstance(a, str):\n",
    "            return max(a)\n",
    "        else:\n",
    "            raise TypeError(\"Input must be a numpy array or a string.\")\n",
    "    except Exception as e:\n",
    "        print(f\"An error occurred: {e}\")\n",
    "        return None\n",
    "\n",
    "\n",
    "# Example usage\n",
    "import numpy as np\n",
    "arr = np.array([1, 2, 3, 4, 5])\n",
    "print(asdss(arr))  # Output: 5\n",
    "\n",
    "str = \"Hello, World!\"\n",
    "print(find_max_number(str))  # Output: H"
   ]
  },
  {
   "cell_type": "code",
   "execution_count": 9,
   "id": "b59ed671",
   "metadata": {},
   "outputs": [
    {
     "name": "stdout",
     "output_type": "stream",
     "text": [
      "[1, 2, 3, 4, 5]\n"
     ]
    }
   ],
   "source": [
    "### remove Duplicates from a List\n",
    "def remove_duplicates(lst):\n",
    "    \"\"\"Remove duplicates from a list.\"\"\"\n",
    "    return list(set(lst))\n",
    "\n",
    "# Example usage\n",
    "lst = [1, 2, 2, 3, 4, 4, 5]\n",
    "print(remove_duplicates(lst))  # Output: [1, 2, 3,"
   ]
  },
  {
   "cell_type": "code",
   "execution_count": 10,
   "id": "825b791b",
   "metadata": {},
   "outputs": [
    {
     "name": "stdout",
     "output_type": "stream",
     "text": [
      "[0, 1, 1, 2, 3, 5, 8]\n"
     ]
    }
   ],
   "source": [
    "### fibonacci Series\n",
    "def fibonacci(n):\n",
    "    \"\"\"Generate Fibonacci series up to n.\"\"\"\n",
    "    fib_series = []\n",
    "    a, b = 0, 1\n",
    "    while a < n:\n",
    "        fib_series.append(a)\n",
    "        a, b = b, a + b\n",
    "    return fib_series\n",
    "\n",
    "# Example usage\n",
    "n = 10\n",
    "print(fibonacci(n))  # Output: [0, 1, 1,"
   ]
  },
  {
   "cell_type": "code",
   "execution_count": null,
   "id": "5cdab387",
   "metadata": {},
   "outputs": [],
   "source": []
  }
 ],
 "metadata": {
  "kernelspec": {
   "display_name": "Python 3",
   "language": "python",
   "name": "python3"
  },
  "language_info": {
   "codemirror_mode": {
    "name": "ipython",
    "version": 3
   },
   "file_extension": ".py",
   "mimetype": "text/x-python",
   "name": "python",
   "nbconvert_exporter": "python",
   "pygments_lexer": "ipython3",
   "version": "3.13.5"
  }
 },
 "nbformat": 4,
 "nbformat_minor": 5
}
